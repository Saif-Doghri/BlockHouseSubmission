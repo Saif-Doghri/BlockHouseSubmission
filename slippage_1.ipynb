{
 "cells": [
  {
   "cell_type": "markdown",
   "metadata": {},
   "source": [
    "# Slippage Paper 1"
   ]
  },
  {
   "cell_type": "markdown",
   "metadata": {},
   "source": [
    "# Modelling Transaction Costs when Trades May Be Crowded: A Bayesian Network Using Partially Observable Orders Imbalance\n",
    "Marie Brière, Charles-Albert Lehalle, Tamara Nefedova, Amine Raboun"
   ]
  },
  {
   "cell_type": "code",
   "execution_count": 14,
   "metadata": {},
   "outputs": [],
   "source": [
    "from IPython.display import Latex"
   ]
  },
  {
   "cell_type": "markdown",
   "metadata": {},
   "source": [
    "## Summary"
   ]
  },
  {
   "cell_type": "markdown",
   "metadata": {},
   "source": [
    "### Abstract"
   ]
  },
  {
   "cell_type": "markdown",
   "metadata": {},
   "source": [
    "This summary presents three different models to estimate the implementation shortfall (IS) of trades. The models incorporate various factors such as daily volatility, price impact, trade size, and order imbalance.\n"
   ]
  },
  {
   "cell_type": "markdown",
   "metadata": {},
   "source": [
    "### Mathematical Models"
   ]
  },
  {
   "cell_type": "markdown",
   "metadata": {},
   "source": [
    "## Model 1: Implementation Shortfall\n",
    "\n",
    "Model 1 captures the implementation shortfall as a function of daily volatility and normalized trade size impact:\n",
    "\n",
    "$$\n",
    "\\text{IS}_k(m,d) = \\alpha \\psi_k(d) + \\beta \\sigma^{GK}_k(d) \\sqrt{\\frac{Q_k(m)}{\\text{ADV}_k(d)}} + \\epsilon_k(m,d)\n",
    "$$\n",
    "\n",
    "where:\n",
    "\n",
    "$$\n",
    "-\\text{IS}_k(m,d) \\text{ is the implementation shortfall for stock  k on day d  for meta-order  m .}\n",
    "$$\n",
    "$$\n",
    "-\\psi_k(d) \\text{ is the daily volatility of stock  k  on day d.}\n",
    "$$\n",
    "$$\n",
    "-\\sigma^{GK}_k(d) \\text{ is the price impact coefficient for stock k on day d.}\n",
    "$$\n",
    "$$\n",
    "-Q_k(m)  \\text{ is the size of meta-order m for stock k.}\n",
    "$$\n",
    "$$\n",
    "- \\text{ADV}_k(d) \\text{ is the average daily volume of stock k on day d}\n",
    "$$\n",
    "$$\n",
    "- \\alpha, \\beta \\text{are the coefficients.}\n",
    "$$\n",
    "$$\n",
    "-\\epsilon_k(m,d) \\text{ is the error term.}\n",
    "$$\n"
   ]
  },
  {
   "cell_type": "markdown",
   "metadata": {},
   "source": [
    "## Model 2: Implementation Shortfall with Order Imbalance\n",
    "\n",
    "Model 2 incorporates order imbalance along with daily volatility:\n",
    "\n",
    "$$\n",
    "\\text{IS}_k(m,d) = \\alpha \\psi_k(d) + \\gamma \\sigma^{GK}_k(d) s_k(m) \\text{Imb}_k(m,d) + \\epsilon_k(m,d)\n",
    "$$\n",
    "\n",
    "where:\n",
    "\n",
    "$$\n",
    "- \\text{IS}_k(m,d) \\text{ is the implementation shortfall for stock } k \\text{ on day } d \\text{ for meta-order } m.\n",
    "$$\n",
    "$$\n",
    "- \\psi_k(d) \\text{ is the daily volatility of stock } k \\text{ on day } d.\n",
    "$$\n",
    "$$\n",
    "- \\sigma^{GK}_k(d) \\text{ is the price impact coefficient for stock } k \\text{ on day } d.\n",
    "$$\n",
    "$$\n",
    "- s_k(m) \\text{ is the sign of the meta-order } m \\text{ for stock } k.\n",
    "$$\n",
    "$$\n",
    "- \\text{Imb}_k(m,d) \\text{ is the order imbalance for stock } k \\text{ on day } d \\text{ for meta-order } m.\n",
    "$$\n",
    "$$\n",
    "- \\alpha, \\gamma \\text{ are the coefficients.}\n",
    "$$\n",
    "$$\n",
    "- \\epsilon_k(m,d) \\text{ is the error term.}\n",
    "$$\n"
   ]
  },
  {
   "cell_type": "markdown",
   "metadata": {},
   "source": [
    "# Model 3 combines components of Models 1 and 2:\n",
    "$$\n",
    "\\text{IS}_k(m,d) = \\alpha \\psi_k(d) + \\beta \\sigma^{GK}_k(d) \\sqrt{\\frac{Q_k(m)}{\\text{ADV}_k(d)}} + \\gamma \\sigma^{GK}_k(d) s_k(m) \\text{Imb}_k(m,d) + \\epsilon_k(m,d)\n",
    "$$\n",
    "\n",
    "$$\n",
    "\\text{This model integrates both the normalized trade size impact and order imbalance.}\n"
   ]
  },
  {
   "cell_type": "code",
   "execution_count": 19,
   "metadata": {},
   "outputs": [
    {
     "name": "stderr",
     "output_type": "stream",
     "text": [
      "C:\\Users\\usre\\AppData\\Local\\Temp\\ipykernel_105660\\2125079118.py:26: SettingWithCopyWarning: \n",
      "A value is trying to be set on a copy of a slice from a DataFrame.\n",
      "Try using .loc[row_indexer,col_indexer] = value instead\n",
      "\n",
      "See the caveats in the documentation: https://pandas.pydata.org/pandas-docs/stable/user_guide/indexing.html#returning-a-view-versus-a-copy\n",
      "  X1['Term'] = df['PriceImpactCoeff'] * np.sqrt(df['TradeSize'] / df['ADV'])\n",
      "C:\\Users\\usre\\AppData\\Local\\Temp\\ipykernel_105660\\2125079118.py:36: SettingWithCopyWarning: \n",
      "A value is trying to be set on a copy of a slice from a DataFrame.\n",
      "Try using .loc[row_indexer,col_indexer] = value instead\n",
      "\n",
      "See the caveats in the documentation: https://pandas.pydata.org/pandas-docs/stable/user_guide/indexing.html#returning-a-view-versus-a-copy\n",
      "  X2['Term'] = df['PriceImpactCoeff'] * df['TradeSign'] * df['OrderImbalance']\n",
      "C:\\Users\\usre\\AppData\\Local\\Temp\\ipykernel_105660\\2125079118.py:46: SettingWithCopyWarning: \n",
      "A value is trying to be set on a copy of a slice from a DataFrame.\n",
      "Try using .loc[row_indexer,col_indexer] = value instead\n",
      "\n",
      "See the caveats in the documentation: https://pandas.pydata.org/pandas-docs/stable/user_guide/indexing.html#returning-a-view-versus-a-copy\n",
      "  X3['Term1'] = df['PriceImpactCoeff'] * np.sqrt(df['TradeSize'] / df['ADV'])\n",
      "C:\\Users\\usre\\AppData\\Local\\Temp\\ipykernel_105660\\2125079118.py:47: SettingWithCopyWarning: \n",
      "A value is trying to be set on a copy of a slice from a DataFrame.\n",
      "Try using .loc[row_indexer,col_indexer] = value instead\n",
      "\n",
      "See the caveats in the documentation: https://pandas.pydata.org/pandas-docs/stable/user_guide/indexing.html#returning-a-view-versus-a-copy\n",
      "  X3['Term2'] = df['PriceImpactCoeff'] * df['TradeSign'] * df['OrderImbalance']\n"
     ]
    },
    {
     "name": "stdout",
     "output_type": "stream",
     "text": [
      "                            OLS Regression Results                            \n",
      "==============================================================================\n",
      "Dep. Variable:                     IS   R-squared:                       0.002\n",
      "Model:                            OLS   Adj. R-squared:                  0.000\n",
      "Method:                 Least Squares   F-statistic:                     1.051\n",
      "Date:                Wed, 26 Jun 2024   Prob (F-statistic):              0.350\n",
      "Time:                        19:24:14   Log-Likelihood:                -1396.4\n",
      "No. Observations:                1000   AIC:                             2799.\n",
      "Df Residuals:                     997   BIC:                             2813.\n",
      "Df Model:                           2                                         \n",
      "Covariance Type:            nonrobust                                         \n",
      "==============================================================================\n",
      "                 coef    std err          t      P>|t|      [0.025      0.975]\n",
      "------------------------------------------------------------------------------\n",
      "const          0.1214      0.156      0.777      0.438      -0.185       0.428\n",
      "Volatility    -0.7836      0.621     -1.261      0.208      -2.003       0.436\n",
      "Term           4.2304      6.160      0.687      0.492      -7.858      16.319\n",
      "==============================================================================\n",
      "Omnibus:                        2.886   Durbin-Watson:                   2.016\n",
      "Prob(Omnibus):                  0.236   Jarque-Bera (JB):                2.749\n",
      "Skew:                           0.121   Prob(JB):                        0.253\n",
      "Kurtosis:                       3.088   Cond. No.                         203.\n",
      "==============================================================================\n",
      "\n",
      "Notes:\n",
      "[1] Standard Errors assume that the covariance matrix of the errors is correctly specified.\n",
      "                            OLS Regression Results                            \n",
      "==============================================================================\n",
      "Dep. Variable:                     IS   R-squared:                       0.003\n",
      "Model:                            OLS   Adj. R-squared:                  0.001\n",
      "Method:                 Least Squares   F-statistic:                     1.624\n",
      "Date:                Wed, 26 Jun 2024   Prob (F-statistic):              0.198\n",
      "Time:                        19:24:14   Log-Likelihood:                -1395.8\n",
      "No. Observations:                1000   AIC:                             2798.\n",
      "Df Residuals:                     997   BIC:                             2812.\n",
      "Df Model:                           2                                         \n",
      "Covariance Type:            nonrobust                                         \n",
      "==============================================================================\n",
      "                 coef    std err          t      P>|t|      [0.025      0.975]\n",
      "------------------------------------------------------------------------------\n",
      "const          0.1718      0.130      1.319      0.187      -0.084       0.428\n",
      "Volatility    -0.7615      0.621     -1.226      0.221      -1.981       0.458\n",
      "Term          -0.2357      0.185     -1.271      0.204      -0.600       0.128\n",
      "==============================================================================\n",
      "Omnibus:                        2.716   Durbin-Watson:                   2.016\n",
      "Prob(Omnibus):                  0.257   Jarque-Bera (JB):                2.588\n",
      "Skew:                           0.119   Prob(JB):                        0.274\n",
      "Kurtosis:                       3.075   Cond. No.                         20.9\n",
      "==============================================================================\n",
      "\n",
      "Notes:\n",
      "[1] Standard Errors assume that the covariance matrix of the errors is correctly specified.\n",
      "                            OLS Regression Results                            \n",
      "==============================================================================\n",
      "Dep. Variable:                     IS   R-squared:                       0.004\n",
      "Model:                            OLS   Adj. R-squared:                  0.001\n",
      "Method:                 Least Squares   F-statistic:                     1.243\n",
      "Date:                Wed, 26 Jun 2024   Prob (F-statistic):              0.293\n",
      "Time:                        19:24:14   Log-Likelihood:                -1395.6\n",
      "No. Observations:                1000   AIC:                             2799.\n",
      "Df Residuals:                     996   BIC:                             2819.\n",
      "Df Model:                           3                                         \n",
      "Covariance Type:            nonrobust                                         \n",
      "==============================================================================\n",
      "                 coef    std err          t      P>|t|      [0.025      0.975]\n",
      "------------------------------------------------------------------------------\n",
      "const          0.1117      0.156      0.714      0.475      -0.195       0.419\n",
      "Volatility    -0.7517      0.622     -1.209      0.227      -1.972       0.468\n",
      "Term1          4.2772      6.158      0.695      0.488      -7.808      16.362\n",
      "Term2         -0.2365      0.185     -1.275      0.203      -0.601       0.128\n",
      "==============================================================================\n",
      "Omnibus:                        2.793   Durbin-Watson:                   2.014\n",
      "Prob(Omnibus):                  0.248   Jarque-Bera (JB):                2.655\n",
      "Skew:                           0.118   Prob(JB):                        0.265\n",
      "Kurtosis:                       3.088   Cond. No.                         203.\n",
      "==============================================================================\n",
      "\n",
      "Notes:\n",
      "[1] Standard Errors assume that the covariance matrix of the errors is correctly specified.\n"
     ]
    }
   ],
   "source": [
    "import numpy as np\n",
    "import pandas as pd\n",
    "from sklearn.linear_model import LinearRegression\n",
    "import statsmodels.api as sm\n",
    "\n",
    "np.random.seed(42)\n",
    "\n",
    "# Number of data points\n",
    "n = 1000\n",
    "\n",
    "# Generate synthetic data\n",
    "data = {\n",
    "    'IS': np.random.normal(0, 1, n),\n",
    "    'Volatility': np.random.normal(0.2, 0.05, n),\n",
    "    'PriceImpactCoeff': np.random.normal(0.3, 0.1, n),\n",
    "    'TradeSize': np.random.normal(1000, 250, n),\n",
    "    'ADV': np.random.normal(500000, 100000, n),\n",
    "    'OrderImbalance': np.random.normal(0.5, 0.2, n),\n",
    "    'TradeSign': np.random.choice([-1, 1], n)\n",
    "}\n",
    "\n",
    "df = pd.DataFrame(data)\n",
    "\n",
    "# Model 1: IS = alpha * Volatility + beta * PriceImpactCoeff * sqrt(TradeSize / ADV)\n",
    "X1 = df[['Volatility']]\n",
    "X1['Term'] = df['PriceImpactCoeff'] * np.sqrt(df['TradeSize'] / df['ADV'])\n",
    "y = df['IS']\n",
    "\n",
    "# Add constant term for intercept\n",
    "X1 = sm.add_constant(X1)\n",
    "model1 = sm.OLS(y, X1).fit()\n",
    "print(model1.summary())\n",
    "\n",
    "# Model 2: IS = alpha * Volatility + gamma * PriceImpactCoeff * TradeSign * OrderImbalance\n",
    "X2 = df[['Volatility']]\n",
    "X2['Term'] = df['PriceImpactCoeff'] * df['TradeSign'] * df['OrderImbalance']\n",
    "y = df['IS']\n",
    "\n",
    "# Add constant term for intercept\n",
    "X2 = sm.add_constant(X2)\n",
    "model2 = sm.OLS(y, X2).fit()\n",
    "print(model2.summary())\n",
    "\n",
    "# Model 3: IS = alpha * Volatility + beta * PriceImpactCoeff * sqrt(TradeSize / ADV) + gamma * PriceImpactCoeff * TradeSign * OrderImbalance\n",
    "X3 = df[['Volatility']]\n",
    "X3['Term1'] = df['PriceImpactCoeff'] * np.sqrt(df['TradeSize'] / df['ADV'])\n",
    "X3['Term2'] = df['PriceImpactCoeff'] * df['TradeSign'] * df['OrderImbalance']\n",
    "y = df['IS']\n",
    "\n",
    "# Add constant term for intercept\n",
    "X3 = sm.add_constant(X3)\n",
    "model3 = sm.OLS(y, X3).fit()\n",
    "print(model3.summary())\n"
   ]
  },
  {
   "cell_type": "code",
   "execution_count": null,
   "metadata": {},
   "outputs": [],
   "source": []
  }
 ],
 "metadata": {
  "kernelspec": {
   "display_name": "base",
   "language": "python",
   "name": "python3"
  },
  "language_info": {
   "codemirror_mode": {
    "name": "ipython",
    "version": 3
   },
   "file_extension": ".py",
   "mimetype": "text/x-python",
   "name": "python",
   "nbconvert_exporter": "python",
   "pygments_lexer": "ipython3",
   "version": "3.11.5"
  }
 },
 "nbformat": 4,
 "nbformat_minor": 2
}
